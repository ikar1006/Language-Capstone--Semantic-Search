{
 "cells": [
  {
   "cell_type": "code",
   "execution_count": 1,
   "id": "575301f3",
   "metadata": {},
   "outputs": [],
   "source": [
    "import numpy as np"
   ]
  },
  {
   "cell_type": "code",
   "execution_count": 2,
   "id": "86318a8b",
   "metadata": {},
   "outputs": [],
   "source": [
    "\n",
    "def top_k_IDs(caption_embedding, image_embeddings, image_ids, k=5):\n",
    "    \n",
    "    \n",
    "    \n",
    "    # normalizecaption embedding\n",
    "    caption_embedding = caption_embedding / np.linalg.norm(caption_embedding)\n",
    "    \n",
    "    # compute cosine similarity between caption embedding & all image embeddings\n",
    "    similarities = np.dot(image_embeddings, caption_embedding)\n",
    "    \n",
    "    # get indices of the top-k most similar images\n",
    "    top_k_indices = np.argsort(similarities)[-k:][::-1]\n",
    "    \n",
    "    # get top-k image IDs\n",
    "    top_k_image_ids = [image_ids[i] for i in top_k_indices]\n",
    "    \n",
    "    #return top_k_image_ids (list)\n",
    "    return top_k_image_ids\n"
   ]
  },
  {
   "cell_type": "code",
   "execution_count": null,
   "id": "e730a437",
   "metadata": {},
   "outputs": [],
   "source": []
  }
 ],
 "metadata": {
  "kernelspec": {
   "display_name": "Python 3 (ipykernel)",
   "language": "python",
   "name": "python3"
  },
  "language_info": {
   "codemirror_mode": {
    "name": "ipython",
    "version": 3
   },
   "file_extension": ".py",
   "mimetype": "text/x-python",
   "name": "python",
   "nbconvert_exporter": "python",
   "pygments_lexer": "ipython3",
   "version": "3.8.19"
  }
 },
 "nbformat": 4,
 "nbformat_minor": 5
}
