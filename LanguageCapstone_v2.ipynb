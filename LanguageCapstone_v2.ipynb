{
 "cells": [
  {
   "cell_type": "code",
   "execution_count": 112,
   "id": "b983e4d7-95f0-4435-845f-9fb4360d4409",
   "metadata": {},
   "outputs": [],
   "source": [
    "#import mygrad as mg\n",
    "#loss = mg.mean(mg.maximum(0, margin - y * (x1 - x2)))\n",
    "import numpy as np\n",
    "from gensim.models import KeyedVectors\n",
    "from cogworks_data.language import get_data_path\n",
    "from pathlib import Path\n",
    "import json\n",
    "import re, string\n",
    "from collections import Counter\n",
    "import numpy as np\n",
    "import math\n",
    "import pickle"
   ]
  },
  {
   "cell_type": "code",
   "execution_count": 1,
   "id": "838a36a4-65e3-40f9-918f-4a099ed9fa6e",
   "metadata": {},
   "outputs": [
    {
     "name": "stderr",
     "output_type": "stream",
     "text": [
      "Downloading file 'captions_train2014.json' from 'https://github.com/rsokl/cog_data/releases/download/language-files/captions_train2014.json' to 'C:\\Users\\arham\\AppData\\Local\\cog_data\\cog_data\\Cache'.\n"
     ]
    }
   ],
   "source": [
    "# load COCO metadata\n",
    "filename = get_data_path(\"captions_train2014.json\")\n",
    "with Path(filename).open() as f:\n",
    "    coco_data = json.load(f)"
   ]
  },
  {
   "cell_type": "code",
   "execution_count": 9,
   "id": "d58066e7-387e-4f4c-b266-7795103f8be7",
   "metadata": {},
   "outputs": [
    {
     "name": "stderr",
     "output_type": "stream",
     "text": [
      "Downloading file 'glove.6B.200d.txt.w2v' from 'https://github.com/rsokl/cog_data/releases/download/language-files/glove.6B.200d.txt.w2v' to 'C:\\Users\\arham\\AppData\\Local\\cog_data\\cog_data\\Cache'.\n"
     ]
    }
   ],
   "source": [
    "filename = \"glove.6B.200d.txt.w2v\"\n",
    "\n",
    "# this takes a while to load -- keep this in mind when designing your capstone project\n",
    "glove = KeyedVectors.load_word2vec_format(get_data_path(filename), binary=False)"
   ]
  },
  {
   "cell_type": "code",
   "execution_count": 83,
   "id": "6a7d3d60-906e-41ac-b577-bc9b0659f147",
   "metadata": {},
   "outputs": [],
   "source": [
    "punc_regex = re.compile('[{}]'.format(re.escape(string.punctuation)))\n",
    "def strip_punc(corpus):\n",
    "    return punc_regex.sub('', corpus)\n",
    "\n",
    "text = \"Apples rule. Apples are the best. Truly, they are. Truly... Truly\"\n",
    "text = strip_punc(text).lower()\n",
    "tokenized = text.split()\n",
    "tokens = Counter(tokenized)\n",
    "#descriptor = np.array([tokens[word] for word in sorted(tokens)], dtype=float)\n",
    "#descriptor\n",
    "#tokens"
   ]
  },
  {
   "cell_type": "markdown",
   "id": "1370e596-014e-4904-ad57-0dcb72ab712e",
   "metadata": {},
   "source": [
    "**Embed Caption**"
   ]
  },
  {
   "cell_type": "code",
   "execution_count": 16,
   "id": "80346a8e-a435-4672-86d7-4abc8a94b919",
   "metadata": {},
   "outputs": [],
   "source": [
    "def to_counter(doc):\n",
    "    return Counter(strip_punc(doc).lower().split())"
   ]
  },
  {
   "cell_type": "code",
   "execution_count": 40,
   "id": "6f03c240-52ad-4e56-b7d7-332debe1593a",
   "metadata": {},
   "outputs": [],
   "source": [
    "def to_vocab(counters, k=None):\n",
    "    output = set()\n",
    "    for i in counters:\n",
    "        output.add(i)\n",
    "    #output = set(output)\n",
    "    return sorted(output)"
   ]
  },
  {
   "cell_type": "code",
   "execution_count": 18,
   "id": "59a60e22-e469-4bcf-b85c-b53fedf537f9",
   "metadata": {},
   "outputs": [],
   "source": [
    "def to_idf(vocab, counters):\n",
    "    N = len(counters)\n",
    "    nt = [sum(1 if term in counter else 0 for counter in counters) for term in vocab]\n",
    "    nt = np.array(nt, dtype=float)\n",
    "\n",
    "    return np.log10(N/nt)    "
   ]
  },
  {
   "cell_type": "code",
   "execution_count": 78,
   "id": "674434db-ec94-4241-858b-658a51163fdf",
   "metadata": {},
   "outputs": [],
   "source": [
    "def embed_caption(caption):\n",
    "    caption = to_counter(caption)\n",
    "    caption_idf = to_idf(to_vocab(caption), caption)\n",
    "    caption_glove = [glove[i] for i in caption]\n",
    "\n",
    "    dots=[]\n",
    "    for i in range(len(caption_idf)):\n",
    "        dots.append(np.dot(caption_idf[i], caption_glove[i]))        \n",
    "    summation = sum(dots)\n",
    "    unit = summation / math.sqrt(sum(summation**2))\n",
    "\n",
    "    return unit"
   ]
  },
  {
   "cell_type": "markdown",
   "id": "f6f8a586-d104-4299-9c0c-c7b4a047765c",
   "metadata": {},
   "source": [
    "**Image Descriptor**"
   ]
  },
  {
   "cell_type": "code",
   "execution_count": 85,
   "id": "eb5eb4a8-c072-442b-974b-48835b180430",
   "metadata": {},
   "outputs": [
    {
     "name": "stderr",
     "output_type": "stream",
     "text": [
      "Downloading file 'resnet18_features.pkl' from 'https://github.com/rsokl/cog_data/releases/download/language-files/resnet18_features.pkl' to 'C:\\Users\\arham\\AppData\\Local\\cog_data\\cog_data\\Cache'.\n"
     ]
    }
   ],
   "source": [
    "with Path(get_data_path('resnet18_features.pkl')).open('rb') as f:\n",
    "    resnet18_features = pickle.load(f)"
   ]
  },
  {
   "cell_type": "code",
   "execution_count": 96,
   "id": "1ed16538-afaf-4a10-8639-c9591441402b",
   "metadata": {},
   "outputs": [
    {
     "data": {
      "text/plain": [
       "(512,)"
      ]
     },
     "execution_count": 96,
     "metadata": {},
     "output_type": "execute_result"
    }
   ],
   "source": [
    "resnet18_features[57870][0].shape"
   ]
  },
  {
   "cell_type": "markdown",
   "id": "2ce102bc-64d7-41d9-98d3-4edf5bae8359",
   "metadata": {},
   "source": [
    "**Creating Training Data**"
   ]
  },
  {
   "cell_type": "code",
   "execution_count": 116,
   "id": "65e96c8e-f6fb-463b-9ddc-291042134d66",
   "metadata": {},
   "outputs": [],
   "source": [
    "training_data = []\n",
    "index=0\n",
    "#(true-caption-ID, true-image-ID, confusor-image-ID)\n",
    "for i in coco_data[\"annotations\"]:\n",
    "    while True:\n",
    "        index = np.random.randint(len(coco_data[\"annotations\"]))\n",
    "        if (coco_data[\"annotations\"][index][\"image_id\"]!=i[\"image_id\"]):\n",
    "            break\n",
    "    training_data.append((i[\"id\"], i[\"image_id\"], coco_data[\"annotations\"][index][\"image_id\"]))"
   ]
  },
  {
   "cell_type": "code",
   "execution_count": 118,
   "id": "1454c849-9a19-4bc4-889b-c6c4ad7d7752",
   "metadata": {},
   "outputs": [
    {
     "data": {
      "text/plain": [
       "414113"
      ]
     },
     "execution_count": 118,
     "metadata": {},
     "output_type": "execute_result"
    }
   ],
   "source": [
    "len(training_data)"
   ]
  }
 ],
 "metadata": {
  "kernelspec": {
   "display_name": "Python 3 (ipykernel)",
   "language": "python",
   "name": "python3"
  },
  "language_info": {
   "codemirror_mode": {
    "name": "ipython",
    "version": 3
   },
   "file_extension": ".py",
   "mimetype": "text/x-python",
   "name": "python",
   "nbconvert_exporter": "python",
   "pygments_lexer": "ipython3",
   "version": "3.8.19"
  }
 },
 "nbformat": 4,
 "nbformat_minor": 5
}
