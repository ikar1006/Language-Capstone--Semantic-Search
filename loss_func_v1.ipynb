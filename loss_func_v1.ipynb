{
 "cells": [
  {
   "cell_type": "code",
   "execution_count": 45,
   "id": "a3b10ecc-2038-4050-9b21-937a389526ca",
   "metadata": {},
   "outputs": [],
   "source": [
    "import mygrad as mg\n",
    "import numpy as np\n",
    "from sklearn.metrics.pairwise import cosine_similarity\n",
    "test = [(48, 318556, 388611), (67, 116100, 412616), (126, 318556, 259951)]"
   ]
  },
  {
   "cell_type": "code",
   "execution_count": 32,
   "id": "fcf8c3be-6178-491b-b0e1-a8075ee620bf",
   "metadata": {},
   "outputs": [],
   "source": [
    "def sim(img, text):\n",
    "    \n",
    "    filler_img = 0\n",
    "    for i in img:\n",
    "        filler_img += i ** 2\n",
    "    filler_text = 0\n",
    "    for j in img:\n",
    "        filler_text += j ** 2\n",
    "\n",
    "    numer = np.dot(img,text)\n",
    "    denom = np.sqrt(filler_img) * np.sqrt(filler_text)\n",
    "    \n",
    "    return numer/denom"
   ]
  },
  {
   "cell_type": "code",
   "execution_count": 62,
   "id": "94fa670b-a233-4e7a-9ac1-ff0e71e82ced",
   "metadata": {},
   "outputs": [],
   "source": [
    "def train_func(triples_list):\n",
    "    text, img_good, img_bad = zip(*triples_list)\n",
    "    text = np.array(text).reshape(-1, 1)\n",
    "    img_good = np.array(img_good).reshape(-1, 1)\n",
    "    img_bad = np.array(img_bad).reshape(-1, 1)\n",
    "    #getting tuples n turning them into the correct arrays\n",
    "\n",
    "    sim_to_good = cosine_similarity(text, img_good)\n",
    "    sim_to_bad = cosine_similarity(text, img_bad)\n",
    "    #sim_to_good = sim(text, img_good)\n",
    "    #sim_to_bad = sim(text, img_bad)\n",
    "    #my other ver of cosine sim\n",
    "    \n",
    "    print(sim_to_good.shape)\n",
    "    print(sim_to_bad.shape)\n",
    "    print(text.shape)\n",
    "    print(img_good.shape)\n",
    "    print(img_bad.shape)\n",
    "    #testing\n",
    "    \n",
    "    y = np.ones(len(text)) #1 or -1, 1 makes it so that its x1 - x2 (vice versa with -1).\n",
    "    \n",
    "    return mg.nnet.losses.margin_ranking_loss(sim_to_good, sim_to_bad, y, margin=1) #idk what margin is supposed to be"
   ]
  },
  {
   "cell_type": "code",
   "execution_count": 63,
   "id": "157e769f-c9b2-47d1-a6ca-d8e39321a524",
   "metadata": {},
   "outputs": [
    {
     "name": "stdout",
     "output_type": "stream",
     "text": [
      "(3, 3)\n",
      "(3, 3)\n",
      "(3, 1)\n",
      "(3, 1)\n",
      "(3, 1)\n"
     ]
    },
    {
     "data": {
      "text/plain": [
       "Tensor(1.)"
      ]
     },
     "execution_count": 63,
     "metadata": {},
     "output_type": "execute_result"
    }
   ],
   "source": [
    "train_func(test)"
   ]
  }
 ],
 "metadata": {
  "kernelspec": {
   "display_name": "Python 3 (ipykernel)",
   "language": "python",
   "name": "python3"
  },
  "language_info": {
   "codemirror_mode": {
    "name": "ipython",
    "version": 3
   },
   "file_extension": ".py",
   "mimetype": "text/x-python",
   "name": "python",
   "nbconvert_exporter": "python",
   "pygments_lexer": "ipython3",
   "version": "3.8.19"
  }
 },
 "nbformat": 4,
 "nbformat_minor": 5
}
